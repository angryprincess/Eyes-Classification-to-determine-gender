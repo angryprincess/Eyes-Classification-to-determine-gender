{
 "cells": [
  {
   "cell_type": "markdown",
   "id": "1ecc4d8d",
   "metadata": {},
   "source": [
    "Author: Harshal Bhasgauri\n",
    "\n",
    "\n",
    "Link to Dataset: https://www.kaggle.com/datasets/pavelbiz/eyes-rtte"
   ]
  },
  {
   "cell_type": "markdown",
   "id": "a5ad2e65",
   "metadata": {},
   "source": [
    "# Importing Libraries"
   ]
  },
  {
   "cell_type": "code",
   "execution_count": 1,
   "id": "22656a9d",
   "metadata": {},
   "outputs": [],
   "source": [
    "import numpy as np\n",
    "import pandas as pd\n",
    "import matplotlib.pyplot as plt\n",
    "%matplotlib inline\n",
    "import seaborn as sns\n",
    "import cv2\n",
    "import tensorflow as tf\n",
    "from tensorflow import keras\n",
    "from keras.models import Sequential\n",
    "from keras.layers import Dense, Dropout\n",
    "from PIL import Image\n",
    "from sklearn.preprocessing import StandardScaler\n",
    "from sklearn.model_selection import train_test_split\n",
    "from sklearn.preprocessing import LabelEncoder\n",
    "from sklearn.svm import SVC\n",
    "from sklearn.metrics import classification_report\n",
    "from sklearn.metrics import confusion_matrix\n",
    "from sklearn.metrics import accuracy_score\n",
    "from sklearn.metrics import recall_score\n",
    "from sklearn.metrics import precision_score\n",
    "from sklearn.metrics import f1_score\n",
    "from sklearn.metrics import roc_auc_score\n",
    "from sklearn.metrics import roc_curve\n",
    "from sklearn.utils import shuffle\n",
    "from sklearn.utils import resample\n",
    "import os\n",
    "import warnings\n",
    "warnings.filterwarnings('ignore')"
   ]
  },
  {
   "cell_type": "markdown",
   "id": "82d14b41",
   "metadata": {},
   "source": [
    "# Loading the dataset"
   ]
  },
  {
   "cell_type": "code",
   "execution_count": 2,
   "id": "b7b0ea77",
   "metadata": {},
   "outputs": [],
   "source": [
    "dir = 'C:/Users/harsh/OneDrive/Documents/AIDI/AIDI1009 NN/projects/Project 3/ruskino_data'\n",
    "\n",
    "label = []\n",
    "path = []\n",
    "\n",
    "for dirname, _,filenames in os.walk(dir):\n",
    "    for filename in filenames:\n",
    "        label.append(os.path.split(dirname)[1])\n",
    "        path.append(os.path.join(dirname,filename))"
   ]
  },
  {
   "cell_type": "code",
   "execution_count": 3,
   "id": "08088ed2",
   "metadata": {},
   "outputs": [],
   "source": [
    "df = pd.DataFrame(columns=['Image','Label'])\n",
    "df['Image']=path\n",
    "df['Label']=label"
   ]
  },
  {
   "cell_type": "code",
   "execution_count": 4,
   "id": "4a7cdca7",
   "metadata": {},
   "outputs": [],
   "source": [
    "df = shuffle(df)\n",
    "df = df.reset_index(drop=True)"
   ]
  },
  {
   "cell_type": "markdown",
   "id": "4b974df4",
   "metadata": {},
   "source": [
    "# Exploratory data analysis"
   ]
  },
  {
   "cell_type": "code",
   "execution_count": 5,
   "id": "a5a535c7",
   "metadata": {},
   "outputs": [
    {
     "data": {
      "text/plain": [
       "10001"
      ]
     },
     "execution_count": 5,
     "metadata": {},
     "output_type": "execute_result"
    }
   ],
   "source": [
    "len(df)"
   ]
  },
  {
   "cell_type": "code",
   "execution_count": 6,
   "id": "1b563399",
   "metadata": {},
   "outputs": [
    {
     "data": {
      "text/html": [
       "<div>\n",
       "<style scoped>\n",
       "    .dataframe tbody tr th:only-of-type {\n",
       "        vertical-align: middle;\n",
       "    }\n",
       "\n",
       "    .dataframe tbody tr th {\n",
       "        vertical-align: top;\n",
       "    }\n",
       "\n",
       "    .dataframe thead th {\n",
       "        text-align: right;\n",
       "    }\n",
       "</style>\n",
       "<table border=\"1\" class=\"dataframe\">\n",
       "  <thead>\n",
       "    <tr style=\"text-align: right;\">\n",
       "      <th></th>\n",
       "      <th>Image</th>\n",
       "      <th>Label</th>\n",
       "    </tr>\n",
       "  </thead>\n",
       "  <tbody>\n",
       "    <tr>\n",
       "      <th>0</th>\n",
       "      <td>C:/Users/harsh/OneDrive/Documents/AIDI/AIDI100...</td>\n",
       "      <td>femaleeyes</td>\n",
       "    </tr>\n",
       "    <tr>\n",
       "      <th>1</th>\n",
       "      <td>C:/Users/harsh/OneDrive/Documents/AIDI/AIDI100...</td>\n",
       "      <td>maleeyes</td>\n",
       "    </tr>\n",
       "    <tr>\n",
       "      <th>2</th>\n",
       "      <td>C:/Users/harsh/OneDrive/Documents/AIDI/AIDI100...</td>\n",
       "      <td>maleeyes</td>\n",
       "    </tr>\n",
       "    <tr>\n",
       "      <th>3</th>\n",
       "      <td>C:/Users/harsh/OneDrive/Documents/AIDI/AIDI100...</td>\n",
       "      <td>maleeyes</td>\n",
       "    </tr>\n",
       "    <tr>\n",
       "      <th>4</th>\n",
       "      <td>C:/Users/harsh/OneDrive/Documents/AIDI/AIDI100...</td>\n",
       "      <td>femaleeyes</td>\n",
       "    </tr>\n",
       "  </tbody>\n",
       "</table>\n",
       "</div>"
      ],
      "text/plain": [
       "                                               Image       Label\n",
       "0  C:/Users/harsh/OneDrive/Documents/AIDI/AIDI100...  femaleeyes\n",
       "1  C:/Users/harsh/OneDrive/Documents/AIDI/AIDI100...    maleeyes\n",
       "2  C:/Users/harsh/OneDrive/Documents/AIDI/AIDI100...    maleeyes\n",
       "3  C:/Users/harsh/OneDrive/Documents/AIDI/AIDI100...    maleeyes\n",
       "4  C:/Users/harsh/OneDrive/Documents/AIDI/AIDI100...  femaleeyes"
      ]
     },
     "execution_count": 6,
     "metadata": {},
     "output_type": "execute_result"
    }
   ],
   "source": [
    "df.head()"
   ]
  },
  {
   "cell_type": "code",
   "execution_count": 7,
   "id": "2bac14be",
   "metadata": {},
   "outputs": [
    {
     "name": "stdout",
     "output_type": "stream",
     "text": [
      "<class 'pandas.core.frame.DataFrame'>\n",
      "RangeIndex: 10001 entries, 0 to 10000\n",
      "Data columns (total 2 columns):\n",
      " #   Column  Non-Null Count  Dtype \n",
      "---  ------  --------------  ----- \n",
      " 0   Image   10001 non-null  object\n",
      " 1   Label   10001 non-null  object\n",
      "dtypes: object(2)\n",
      "memory usage: 156.4+ KB\n"
     ]
    }
   ],
   "source": [
    "df.info()"
   ]
  },
  {
   "cell_type": "markdown",
   "id": "f4e0489b",
   "metadata": {},
   "source": []
  },
  {
   "cell_type": "code",
   "execution_count": 8,
   "id": "3b6ad3df",
   "metadata": {},
   "outputs": [
    {
     "data": {
      "text/html": [
       "<div>\n",
       "<style scoped>\n",
       "    .dataframe tbody tr th:only-of-type {\n",
       "        vertical-align: middle;\n",
       "    }\n",
       "\n",
       "    .dataframe tbody tr th {\n",
       "        vertical-align: top;\n",
       "    }\n",
       "\n",
       "    .dataframe thead th {\n",
       "        text-align: right;\n",
       "    }\n",
       "</style>\n",
       "<table border=\"1\" class=\"dataframe\">\n",
       "  <thead>\n",
       "    <tr style=\"text-align: right;\">\n",
       "      <th></th>\n",
       "      <th>Image</th>\n",
       "      <th>Label</th>\n",
       "    </tr>\n",
       "  </thead>\n",
       "  <tbody>\n",
       "    <tr>\n",
       "      <th>count</th>\n",
       "      <td>10001</td>\n",
       "      <td>10001</td>\n",
       "    </tr>\n",
       "    <tr>\n",
       "      <th>unique</th>\n",
       "      <td>10001</td>\n",
       "      <td>2</td>\n",
       "    </tr>\n",
       "    <tr>\n",
       "      <th>top</th>\n",
       "      <td>C:/Users/harsh/OneDrive/Documents/AIDI/AIDI100...</td>\n",
       "      <td>femaleeyes</td>\n",
       "    </tr>\n",
       "    <tr>\n",
       "      <th>freq</th>\n",
       "      <td>1</td>\n",
       "      <td>5202</td>\n",
       "    </tr>\n",
       "  </tbody>\n",
       "</table>\n",
       "</div>"
      ],
      "text/plain": [
       "                                                    Image       Label\n",
       "count                                               10001       10001\n",
       "unique                                              10001           2\n",
       "top     C:/Users/harsh/OneDrive/Documents/AIDI/AIDI100...  femaleeyes\n",
       "freq                                                    1        5202"
      ]
     },
     "execution_count": 8,
     "metadata": {},
     "output_type": "execute_result"
    }
   ],
   "source": [
    "df.describe()"
   ]
  },
  {
   "cell_type": "markdown",
   "id": "8688b675",
   "metadata": {},
   "source": [
    "There are total of 10001 Images in the entire dataset, having 2 labels [maleeyes, femaleeyes]. Frequency of femaleeyes is greater then frequency of maleeyes."
   ]
  },
  {
   "cell_type": "code",
   "execution_count": 9,
   "id": "cd4f682f",
   "metadata": {},
   "outputs": [
    {
     "data": {
      "text/plain": [
       "Image    0\n",
       "Label    0\n",
       "dtype: int64"
      ]
     },
     "execution_count": 9,
     "metadata": {},
     "output_type": "execute_result"
    }
   ],
   "source": [
    "#checking for null\n",
    "df.isna().sum()"
   ]
  },
  {
   "cell_type": "markdown",
   "id": "e4eca14f",
   "metadata": {},
   "source": [
    "No null values in the dataset"
   ]
  },
  {
   "cell_type": "code",
   "execution_count": 10,
   "id": "4cf9d052",
   "metadata": {},
   "outputs": [
    {
     "name": "stdout",
     "output_type": "stream",
     "text": [
      "femaleeyes    5202\n",
      "maleeyes      4799\n",
      "Name: Label, dtype: int64\n"
     ]
    },
    {
     "data": {
      "image/png": "[encoded data removed]",
      "text/plain": [
       "<Figure size 500x400 with 1 Axes>"
      ]
     },
     "metadata": {},
     "output_type": "display_data"
    }
   ],
   "source": [
    "# Count number of samples for each category [Male, Female]\n",
    "bp = df['Label'].value_counts()\n",
    "print(bp)\n",
    "\n",
    "plt.figure(figsize = (5, 4))\n",
    "sns.barplot(x = bp.index, y = bp)\n",
    "plt.title(\"count of image for male and female eye\", fontsize = 8)\n",
    "plt.show()"
   ]
  },
  {
   "cell_type": "markdown",
   "id": "dd20dd84",
   "metadata": {},
   "source": [
    "It is clear from the graph that there is an imbalance in the training dataset. I will now perform downsampling to balance the dataset. I am not suing data augmentation as database is too large."
   ]
  },
  {
   "cell_type": "code",
   "execution_count": 11,
   "id": "bf907956",
   "metadata": {},
   "outputs": [
    {
     "name": "stdout",
     "output_type": "stream",
     "text": [
      "4799\n"
     ]
    }
   ],
   "source": [
    "# Define the paths to the male and female eye image folders\n",
    "male_path = 'C:/Users/harsh/OneDrive/Documents/AIDI/AIDI1009 NN/projects/Project 3/ruskino_data/maleeyes'\n",
    "female_path = 'C:/Users/harsh/OneDrive/Documents/AIDI/AIDI1009 NN/projects/Project 3/ruskino_data/femaleeyes'\n",
    "\n",
    "# Count the number of images in each folder\n",
    "num_male_images = len(os.listdir(male_path))\n",
    "num_female_images = len(os.listdir(female_path))\n",
    "\n",
    "# Determine the size of the minority class\n",
    "min_class_size = min(num_male_images, num_female_images)\n",
    "print(min_class_size)\n"
   ]
  },
  {
   "cell_type": "code",
   "execution_count": 12,
   "id": "9401a63c",
   "metadata": {},
   "outputs": [],
   "source": [
    "df_male = df[df.Label=='maleeyes']\n",
    "df_female = df[df.Label=='femaleeyes'] #femaleeyes need to be downsampled"
   ]
  },
  {
   "cell_type": "code",
   "execution_count": 13,
   "id": "7ccfe607",
   "metadata": {},
   "outputs": [],
   "source": [
    "#downsampling without replacing\n",
    "df_down_sample = resample(df_female, replace=False, n_samples=4799, random_state=42)"
   ]
  },
  {
   "cell_type": "code",
   "execution_count": 14,
   "id": "832df9c8",
   "metadata": {},
   "outputs": [],
   "source": [
    "# Combine both samples\n",
    "df = pd.concat([df_down_sample, df_male])\n",
    "df = shuffle(df)\n",
    "df = df.reset_index(drop=True)"
   ]
  },
  {
   "cell_type": "code",
   "execution_count": 15,
   "id": "0a12e62e",
   "metadata": {},
   "outputs": [
    {
     "name": "stdout",
     "output_type": "stream",
     "text": [
      "maleeyes      4799\n",
      "femaleeyes    4799\n",
      "Name: Label, dtype: int64\n"
     ]
    },
    {
     "data": {
      "text/html": [
       "<div>\n",
       "<style scoped>\n",
       "    .dataframe tbody tr th:only-of-type {\n",
       "        vertical-align: middle;\n",
       "    }\n",
       "\n",
       "    .dataframe tbody tr th {\n",
       "        vertical-align: top;\n",
       "    }\n",
       "\n",
       "    .dataframe thead th {\n",
       "        text-align: right;\n",
       "    }\n",
       "</style>\n",
       "<table border=\"1\" class=\"dataframe\">\n",
       "  <thead>\n",
       "    <tr style=\"text-align: right;\">\n",
       "      <th></th>\n",
       "      <th>Image</th>\n",
       "      <th>Label</th>\n",
       "    </tr>\n",
       "  </thead>\n",
       "  <tbody>\n",
       "    <tr>\n",
       "      <th>count</th>\n",
       "      <td>9598</td>\n",
       "      <td>9598</td>\n",
       "    </tr>\n",
       "    <tr>\n",
       "      <th>unique</th>\n",
       "      <td>9598</td>\n",
       "      <td>2</td>\n",
       "    </tr>\n",
       "    <tr>\n",
       "      <th>top</th>\n",
       "      <td>C:/Users/harsh/OneDrive/Documents/AIDI/AIDI100...</td>\n",
       "      <td>maleeyes</td>\n",
       "    </tr>\n",
       "    <tr>\n",
       "      <th>freq</th>\n",
       "      <td>1</td>\n",
       "      <td>4799</td>\n",
       "    </tr>\n",
       "  </tbody>\n",
       "</table>\n",
       "</div>"
      ],
      "text/plain": [
       "                                                    Image     Label\n",
       "count                                                9598      9598\n",
       "unique                                               9598         2\n",
       "top     C:/Users/harsh/OneDrive/Documents/AIDI/AIDI100...  maleeyes\n",
       "freq                                                    1      4799"
      ]
     },
     "execution_count": 15,
     "metadata": {},
     "output_type": "execute_result"
    }
   ],
   "source": [
    "# Display count of data points in both class\n",
    "print(df.Label.value_counts())\n",
    "\n",
    "df.describe()"
   ]
  },
  {
   "cell_type": "code",
   "execution_count": 16,
   "id": "00c25bb5",
   "metadata": {},
   "outputs": [
    {
     "name": "stdout",
     "output_type": "stream",
     "text": [
      "maleeyes      4799\n",
      "femaleeyes    4799\n",
      "Name: Label, dtype: int64\n"
     ]
    },
    {
     "data": {
      "image/png": "[encoded data removed]",
      "text/plain": [
       "<Figure size 300x200 with 1 Axes>"
      ]
     },
     "metadata": {},
     "output_type": "display_data"
    }
   ],
   "source": [
    "ds = df['Label'].value_counts()\n",
    "\n",
    "print(ds)\n",
    "plt.figure(figsize = (3, 2))\n",
    "sns.barplot(x = ds.index, y = ds)\n",
    "plt.title(\"count of image for male and female eye\", fontsize = 8)\n",
    "plt.show()"
   ]
  },
  {
   "cell_type": "markdown",
   "id": "2d51e907",
   "metadata": {},
   "source": [
    "Now we have a balanced data set."
   ]
  },
  {
   "cell_type": "code",
   "execution_count": 17,
   "id": "5a99946b",
   "metadata": {},
   "outputs": [],
   "source": []
  },
  {
   "cell_type": "markdown",
   "id": "c0ea730e",
   "metadata": {},
   "source": [
    "Changing all image dimensions to (64x64) and converting to grayscale"
   ]
  },
  {
   "cell_type": "code",
   "execution_count": 18,
   "id": "91b39b11",
   "metadata": {},
   "outputs": [
    {
     "data": {
      "text/plain": [
       "{(64, 64, 3)}"
      ]
     },
     "execution_count": 18,
     "metadata": {},
     "output_type": "execute_result"
    }
   ],
   "source": [
    "size = (64,64)\n",
    "\n",
    "dfcopy = df.copy() #duplicating original dataframe\n",
    "\n",
    "size_list = set()\n",
    "for i in range(len(df)):\n",
    "    image=cv2.imread(df['Image'][i])\n",
    "    image=cv2.resize(image,size)\n",
    "    image = cv2.cvtColor(image, cv2.COLOR_BGR2RGB)\n",
    "    size_list.add(image.shape)\n",
    "    dfcopy['Image'][i] = image.flatten()\n",
    "\n",
    "size_list #printing the new image dimension"
   ]
  },
  {
   "cell_type": "code",
   "execution_count": 19,
   "id": "6ad6ec12",
   "metadata": {},
   "outputs": [],
   "source": []
  },
  {
   "cell_type": "code",
   "execution_count": 20,
   "id": "9bc698c3",
   "metadata": {},
   "outputs": [
    {
     "data": {
      "text/html": [
       "<div>\n",
       "<style scoped>\n",
       "    .dataframe tbody tr th:only-of-type {\n",
       "        vertical-align: middle;\n",
       "    }\n",
       "\n",
       "    .dataframe tbody tr th {\n",
       "        vertical-align: top;\n",
       "    }\n",
       "\n",
       "    .dataframe thead th {\n",
       "        text-align: right;\n",
       "    }\n",
       "</style>\n",
       "<table border=\"1\" class=\"dataframe\">\n",
       "  <thead>\n",
       "    <tr style=\"text-align: right;\">\n",
       "      <th></th>\n",
       "      <th>Image</th>\n",
       "      <th>Label</th>\n",
       "    </tr>\n",
       "  </thead>\n",
       "  <tbody>\n",
       "    <tr>\n",
       "      <th>0</th>\n",
       "      <td>[118, 80, 57, 118, 80, 58, 113, 76, 57, 106, 7...</td>\n",
       "      <td>maleeyes</td>\n",
       "    </tr>\n",
       "    <tr>\n",
       "      <th>1</th>\n",
       "      <td>[201, 139, 102, 198, 136, 99, 196, 134, 97, 19...</td>\n",
       "      <td>femaleeyes</td>\n",
       "    </tr>\n",
       "    <tr>\n",
       "      <th>2</th>\n",
       "      <td>[186, 138, 126, 186, 138, 126, 186, 136, 125, ...</td>\n",
       "      <td>maleeyes</td>\n",
       "    </tr>\n",
       "    <tr>\n",
       "      <th>3</th>\n",
       "      <td>[234, 186, 166, 232, 185, 165, 232, 185, 166, ...</td>\n",
       "      <td>femaleeyes</td>\n",
       "    </tr>\n",
       "    <tr>\n",
       "      <th>4</th>\n",
       "      <td>[240, 171, 156, 241, 172, 157, 239, 166, 151, ...</td>\n",
       "      <td>femaleeyes</td>\n",
       "    </tr>\n",
       "  </tbody>\n",
       "</table>\n",
       "</div>"
      ],
      "text/plain": [
       "                                               Image       Label\n",
       "0  [118, 80, 57, 118, 80, 58, 113, 76, 57, 106, 7...    maleeyes\n",
       "1  [201, 139, 102, 198, 136, 99, 196, 134, 97, 19...  femaleeyes\n",
       "2  [186, 138, 126, 186, 138, 126, 186, 136, 125, ...    maleeyes\n",
       "3  [234, 186, 166, 232, 185, 165, 232, 185, 166, ...  femaleeyes\n",
       "4  [240, 171, 156, 241, 172, 157, 239, 166, 151, ...  femaleeyes"
      ]
     },
     "execution_count": 20,
     "metadata": {},
     "output_type": "execute_result"
    }
   ],
   "source": [
    "dfcopy.head()"
   ]
  },
  {
   "cell_type": "code",
   "execution_count": 21,
   "id": "c301d6d6",
   "metadata": {},
   "outputs": [],
   "source": [
    "labelEnc = LabelEncoder()\n",
    "dfcopy['Label'] = np.asarray(labelEnc.fit_transform(dfcopy['Label']))#femaleeyes as 0 and maleeyes as 1"
   ]
  },
  {
   "cell_type": "code",
   "execution_count": 22,
   "id": "7deb1e86",
   "metadata": {},
   "outputs": [
    {
     "data": {
      "text/html": [
       "<div>\n",
       "<style scoped>\n",
       "    .dataframe tbody tr th:only-of-type {\n",
       "        vertical-align: middle;\n",
       "    }\n",
       "\n",
       "    .dataframe tbody tr th {\n",
       "        vertical-align: top;\n",
       "    }\n",
       "\n",
       "    .dataframe thead th {\n",
       "        text-align: right;\n",
       "    }\n",
       "</style>\n",
       "<table border=\"1\" class=\"dataframe\">\n",
       "  <thead>\n",
       "    <tr style=\"text-align: right;\">\n",
       "      <th></th>\n",
       "      <th>Image</th>\n",
       "      <th>Label</th>\n",
       "    </tr>\n",
       "  </thead>\n",
       "  <tbody>\n",
       "    <tr>\n",
       "      <th>0</th>\n",
       "      <td>[118, 80, 57, 118, 80, 58, 113, 76, 57, 106, 7...</td>\n",
       "      <td>1</td>\n",
       "    </tr>\n",
       "    <tr>\n",
       "      <th>1</th>\n",
       "      <td>[201, 139, 102, 198, 136, 99, 196, 134, 97, 19...</td>\n",
       "      <td>0</td>\n",
       "    </tr>\n",
       "    <tr>\n",
       "      <th>2</th>\n",
       "      <td>[186, 138, 126, 186, 138, 126, 186, 136, 125, ...</td>\n",
       "      <td>1</td>\n",
       "    </tr>\n",
       "    <tr>\n",
       "      <th>3</th>\n",
       "      <td>[234, 186, 166, 232, 185, 165, 232, 185, 166, ...</td>\n",
       "      <td>0</td>\n",
       "    </tr>\n",
       "    <tr>\n",
       "      <th>4</th>\n",
       "      <td>[240, 171, 156, 241, 172, 157, 239, 166, 151, ...</td>\n",
       "      <td>0</td>\n",
       "    </tr>\n",
       "  </tbody>\n",
       "</table>\n",
       "</div>"
      ],
      "text/plain": [
       "                                               Image  Label\n",
       "0  [118, 80, 57, 118, 80, 58, 113, 76, 57, 106, 7...      1\n",
       "1  [201, 139, 102, 198, 136, 99, 196, 134, 97, 19...      0\n",
       "2  [186, 138, 126, 186, 138, 126, 186, 136, 125, ...      1\n",
       "3  [234, 186, 166, 232, 185, 165, 232, 185, 166, ...      0\n",
       "4  [240, 171, 156, 241, 172, 157, 239, 166, 151, ...      0"
      ]
     },
     "execution_count": 22,
     "metadata": {},
     "output_type": "execute_result"
    }
   ],
   "source": [
    "dfcopy.head()"
   ]
  },
  {
   "cell_type": "markdown",
   "id": "b67c3fba",
   "metadata": {},
   "source": [
    "# Implementing SVM Classification Model(Benchmark Model)"
   ]
  },
  {
   "cell_type": "code",
   "execution_count": 23,
   "id": "37c1bced",
   "metadata": {},
   "outputs": [],
   "source": [
    "images = []\n",
    "labels = []\n",
    "\n",
    "for label, path in enumerate([male_path, female_path]):\n",
    "    for file in os.listdir(path):\n",
    "        image = np.array(Image.open(os.path.join(path, file)).resize((64, 64)))\n",
    "        images.append(image)\n",
    "        labels.append(label)"
   ]
  },
  {
   "cell_type": "code",
   "execution_count": 24,
   "id": "16eb08bb",
   "metadata": {},
   "outputs": [],
   "source": [
    "# Convert the images and labels to numpy arrays\n",
    "X = np.array(images)\n",
    "y = np.array(labels)"
   ]
  },
  {
   "cell_type": "code",
   "execution_count": 25,
   "id": "a5badfa2",
   "metadata": {},
   "outputs": [],
   "source": [
    "# Split the data into training and testing set\n",
    "X_train, X_test, y_train, y_test = train_test_split(X, y, test_size=0.3, random_state=42)"
   ]
  },
  {
   "cell_type": "code",
   "execution_count": 26,
   "id": "b9fa7527",
   "metadata": {},
   "outputs": [],
   "source": [
    "# Reshaping the training and testing data because SVM expects 2D array\n",
    "X_train = X_train.reshape(X_train.shape[0], -1)\n",
    "X_test = X_test.reshape(X_test.shape[0], -1)"
   ]
  },
  {
   "cell_type": "code",
   "execution_count": 27,
   "id": "fae064e0",
   "metadata": {},
   "outputs": [
    {
     "data": {
      "text/html": [
       "<style>#sk-container-id-1 {color: black;background-color: white;}#sk-container-id-1 pre{padding: 0;}#sk-container-id-1 div.sk-toggleable {background-color: white;}#sk-container-id-1 label.sk-toggleable__label {cursor: pointer;display: block;width: 100%;margin-bottom: 0;padding: 0.3em;box-sizing: border-box;text-align: center;}#sk-container-id-1 label.sk-toggleable__label-arrow:before {content: \"▸\";float: left;margin-right: 0.25em;color: #696969;}#sk-container-id-1 label.sk-toggleable__label-arrow:hover:before {color: black;}#sk-container-id-1 div.sk-estimator:hover label.sk-toggleable__label-arrow:before {color: black;}#sk-container-id-1 div.sk-toggleable__content {max-height: 0;max-width: 0;overflow: hidden;text-align: left;background-color: #f0f8ff;}#sk-container-id-1 div.sk-toggleable__content pre {margin: 0.2em;color: black;border-radius: 0.25em;background-color: #f0f8ff;}#sk-container-id-1 input.sk-toggleable__control:checked~div.sk-toggleable__content {max-height: 200px;max-width: 100%;overflow: auto;}#sk-container-id-1 input.sk-toggleable__control:checked~label.sk-toggleable__label-arrow:before {content: \"▾\";}#sk-container-id-1 div.sk-estimator input.sk-toggleable__control:checked~label.sk-toggleable__label {background-color: #d4ebff;}#sk-container-id-1 div.sk-label input.sk-toggleable__control:checked~label.sk-toggleable__label {background-color: #d4ebff;}#sk-container-id-1 input.sk-hidden--visually {border: 0;clip: rect(1px 1px 1px 1px);clip: rect(1px, 1px, 1px, 1px);height: 1px;margin: -1px;overflow: hidden;padding: 0;position: absolute;width: 1px;}#sk-container-id-1 div.sk-estimator {font-family: monospace;background-color: #f0f8ff;border: 1px dotted black;border-radius: 0.25em;box-sizing: border-box;margin-bottom: 0.5em;}#sk-container-id-1 div.sk-estimator:hover {background-color: #d4ebff;}#sk-container-id-1 div.sk-parallel-item::after {content: \"\";width: 100%;border-bottom: 1px solid gray;flex-grow: 1;}#sk-container-id-1 div.sk-label:hover label.sk-toggleable__label {background-color: #d4ebff;}#sk-container-id-1 div.sk-serial::before {content: \"\";position: absolute;border-left: 1px solid gray;box-sizing: border-box;top: 0;bottom: 0;left: 50%;z-index: 0;}#sk-container-id-1 div.sk-serial {display: flex;flex-direction: column;align-items: center;background-color: white;padding-right: 0.2em;padding-left: 0.2em;position: relative;}#sk-container-id-1 div.sk-item {position: relative;z-index: 1;}#sk-container-id-1 div.sk-parallel {display: flex;align-items: stretch;justify-content: center;background-color: white;position: relative;}#sk-container-id-1 div.sk-item::before, #sk-container-id-1 div.sk-parallel-item::before {content: \"\";position: absolute;border-left: 1px solid gray;box-sizing: border-box;top: 0;bottom: 0;left: 50%;z-index: -1;}#sk-container-id-1 div.sk-parallel-item {display: flex;flex-direction: column;z-index: 1;position: relative;background-color: white;}#sk-container-id-1 div.sk-parallel-item:first-child::after {align-self: flex-end;width: 50%;}#sk-container-id-1 div.sk-parallel-item:last-child::after {align-self: flex-start;width: 50%;}#sk-container-id-1 div.sk-parallel-item:only-child::after {width: 0;}#sk-container-id-1 div.sk-dashed-wrapped {border: 1px dashed gray;margin: 0 0.4em 0.5em 0.4em;box-sizing: border-box;padding-bottom: 0.4em;background-color: white;}#sk-container-id-1 div.sk-label label {font-family: monospace;font-weight: bold;display: inline-block;line-height: 1.2em;}#sk-container-id-1 div.sk-label-container {text-align: center;}#sk-container-id-1 div.sk-container {/* jupyter's `normalize.less` sets `[hidden] { display: none; }` but bootstrap.min.css set `[hidden] { display: none !important; }` so we also need the `!important` here to be able to override the default hidden behavior on the sphinx rendered scikit-learn.org. See: https://github.com/scikit-learn/scikit-learn/issues/21755 */display: inline-block !important;position: relative;}#sk-container-id-1 div.sk-text-repr-fallback {display: none;}</style><div id=\"sk-container-id-1\" class=\"sk-top-container\"><div class=\"sk-text-repr-fallback\"><pre>SVC(kernel=&#x27;linear&#x27;, random_state=42)</pre><b>In a Jupyter environment, please rerun this cell to show the HTML representation or trust the notebook. <br />On GitHub, the HTML representation is unable to render, please try loading this page with nbviewer.org.</b></div><div class=\"sk-container\" hidden><div class=\"sk-item\"><div class=\"sk-estimator sk-toggleable\"><input class=\"sk-toggleable__control sk-hidden--visually\" id=\"sk-estimator-id-1\" type=\"checkbox\" checked><label for=\"sk-estimator-id-1\" class=\"sk-toggleable__label sk-toggleable__label-arrow\">SVC</label><div class=\"sk-toggleable__content\"><pre>SVC(kernel=&#x27;linear&#x27;, random_state=42)</pre></div></div></div></div></div>"
      ],
      "text/plain": [
       "SVC(kernel='linear', random_state=42)"
      ]
     },
     "execution_count": 27,
     "metadata": {},
     "output_type": "execute_result"
    }
   ],
   "source": [
    "#Defining SVM classifier\n",
    "svm = SVC(kernel='linear', random_state=42)\n",
    "svm.fit(X_train, y_train)"
   ]
  },
  {
   "cell_type": "code",
   "execution_count": 28,
   "id": "47227ac0",
   "metadata": {},
   "outputs": [],
   "source": [
    "# Make predictions on the testing data\n",
    "y_pred = svm.predict(X_test)"
   ]
  },
  {
   "cell_type": "code",
   "execution_count": 29,
   "id": "a71e6151",
   "metadata": {},
   "outputs": [
    {
     "name": "stdout",
     "output_type": "stream",
     "text": [
      "Accuracy of SVM model: 0.79\n"
     ]
    }
   ],
   "source": [
    "# Calculating the accuracy of the model\n",
    "accuracy = accuracy_score(y_test, y_pred)\n",
    "print(f'Accuracy of SVM model: {accuracy:.2f}')"
   ]
  },
  {
   "cell_type": "code",
   "execution_count": 30,
   "id": "d57cdf75",
   "metadata": {},
   "outputs": [
    {
     "name": "stdout",
     "output_type": "stream",
     "text": [
      "[[1144  326]\n",
      " [ 300 1231]]\n"
     ]
    },
    {
     "data": {
      "text/plain": [
       "Text(0.5, 1.0, 'Accuracy Score: 0.7914028657114295')"
      ]
     },
     "execution_count": 30,
     "metadata": {},
     "output_type": "execute_result"
    },
    {
     "data": {
      "image/png": "[encoded data removed]",
      "text/plain": [
       "<Figure size 700x700 with 2 Axes>"
      ]
     },
     "metadata": {},
     "output_type": "display_data"
    }
   ],
   "source": [
    "# Generating the confusion matrix\n",
    "confusionmatrix = confusion_matrix(y_test, y_pred)\n",
    "\n",
    "# Printing the confusion matrix\n",
    "print(confusionmatrix)\n",
    "\n",
    "#Plot the confusion matrix\n",
    "plt.figure(figsize=(7,7))\n",
    "sns.heatmap(confusionmatrix,annot=True, fmt='.3f', linewidths=.5, square=True,cmap=\"Pastel1\")\n",
    "plt.ylabel('Actual label')\n",
    "plt.xlabel('Predicted label')\n",
    "all_sample_title = 'Accuracy Score: {0}'.format(accuracy)\n",
    "plt.title(all_sample_title,size=15)"
   ]
  },
  {
   "cell_type": "markdown",
   "id": "8f6d9d39",
   "metadata": {},
   "source": [
    "<!-- Here I can see from confusion matrix that our SVM classifier has an accuracy of 79.14%, where from 3001 samples, the algorithm correctly identified 840 samples as True Positive, 901 as True Negatives, 193 as False Positive and 147 as False Negatives. -->"
   ]
  },
  {
   "cell_type": "code",
   "execution_count": 31,
   "id": "83e64d1d",
   "metadata": {},
   "outputs": [
    {
     "name": "stdout",
     "output_type": "stream",
     "text": [
      "              precision    recall  f1-score   support\n",
      "\n",
      "           0       0.79      0.78      0.79      1470\n",
      "           1       0.79      0.80      0.80      1531\n",
      "\n",
      "    accuracy                           0.79      3001\n",
      "   macro avg       0.79      0.79      0.79      3001\n",
      "weighted avg       0.79      0.79      0.79      3001\n",
      "\n"
     ]
    }
   ],
   "source": [
    "# Print the classification report\n",
    "SVM_Classification_report = classification_report(y_test, y_pred)\n",
    "print(SVM_Classification_report)"
   ]
  },
  {
   "cell_type": "markdown",
   "id": "96378b2d",
   "metadata": {},
   "source": [
    "SVM Model gives an average precision of 79%, recall of 79% and f1-score and accuracy of about 0.79."
   ]
  },
  {
   "cell_type": "markdown",
   "id": "1d04ec38",
   "metadata": {},
   "source": [
    "# Multilayer Perceptron Model"
   ]
  },
  {
   "cell_type": "markdown",
   "id": "7c7c5e24",
   "metadata": {},
   "source": [
    "creating train, test and Validation set"
   ]
  },
  {
   "cell_type": "code",
   "execution_count": 32,
   "id": "c9e8f746",
   "metadata": {},
   "outputs": [],
   "source": [
    "# creating a funtion that will reshape the arrray and reset index \n",
    "def cleaned(X):\n",
    "    for i in range(len(X)):\n",
    "        X[i] = np.vstack(X[i].reset_index(drop=True))\n",
    "    return X"
   ]
  },
  {
   "cell_type": "markdown",
   "id": "e1b031a2",
   "metadata": {},
   "source": [
    "dividing df for train, test and validation set"
   ]
  },
  {
   "cell_type": "code",
   "execution_count": 33,
   "id": "86b18673",
   "metadata": {},
   "outputs": [],
   "source": [
    "X_train2, X_val2, y_train2, y_val2 = train_test_split(dfcopy.Image, dfcopy.Label,\n",
    "                                                      test_size = 0.4, random_state = 7)\n",
    "X_val2, X_test2,y_val2, y_test2 = train_test_split(X_val2, y_val2, test_size = 0.5, random_state = 7)"
   ]
  },
  {
   "cell_type": "code",
   "execution_count": 34,
   "id": "17f8821f",
   "metadata": {},
   "outputs": [],
   "source": [
    "x_train2, x_val2, x_test2, y_train2, y_val2, y_test2 = cleaned([X_train2, X_val2, X_test2, y_train2, y_val2, y_test2])"
   ]
  },
  {
   "cell_type": "code",
   "execution_count": 35,
   "id": "924a0fa3",
   "metadata": {},
   "outputs": [
    {
     "name": "stdout",
     "output_type": "stream",
     "text": [
      "X_Train:  (5758, 12288)\n",
      "X_Val:  (1920, 12288)\n",
      "X_Test:  (1920, 12288)\n"
     ]
    }
   ],
   "source": [
    "#printing X array shapes\n",
    "print(\"X_Train: \", x_train2.shape) \n",
    "print(\"X_Val: \", x_val2.shape) \n",
    "print(\"X_Test: \", x_test2.shape) "
   ]
  },
  {
   "cell_type": "code",
   "execution_count": 36,
   "id": "df710313",
   "metadata": {},
   "outputs": [
    {
     "name": "stdout",
     "output_type": "stream",
     "text": [
      "y_Train:  (5758, 1)\n",
      "y_Val:  (1920, 1)\n",
      "y_test:  (1920, 1)\n"
     ]
    }
   ],
   "source": [
    "#printing y array shapes\n",
    "print(\"y_Train: \", y_train2.shape) \n",
    "print(\"y_Val: \", y_val2.shape) \n",
    "print(\"y_test: \", y_test2.shape)"
   ]
  },
  {
   "cell_type": "markdown",
   "id": "20d3efec",
   "metadata": {},
   "source": [
    "Model architechture"
   ]
  },
  {
   "cell_type": "markdown",
   "id": "5c9ca809",
   "metadata": {},
   "source": [
    "Here I am designing a model architechture. Here I am using Leaky Relu and sigmoid activation functions. Leaky Relu is similar to ReLU, but instead of returning 0 for negative inputs, it returns a small negative value. This will help me to address the \"dying ReLU\" problem, where ReLU neurons can become permanently inactive during training."
   ]
  },
  {
   "cell_type": "code",
   "execution_count": 37,
   "id": "40ef2448",
   "metadata": {},
   "outputs": [],
   "source": [
    "model = tf.keras.models.Sequential([\n",
    "    tf.keras.layers.Dense(1024, activation=tf.nn.leaky_relu), \n",
    "    tf.keras.layers.Dropout(0.5),\n",
    "    tf.keras.layers.Dense(512, activation=tf.nn.leaky_relu), \n",
    "    tf.keras.layers.Dropout(0.5),\n",
    "    tf.keras.layers.Dense(1, activation='sigmoid') \n",
    "])"
   ]
  },
  {
   "cell_type": "markdown",
   "id": "74050471",
   "metadata": {},
   "source": [
    "The first layer is a dense layer with 1024 units and a leaky rectified linear unit (leaky_relu) activation function, and takes the input data as input. I have then added a dropout layer with a dropout rate of 0.5 to prevent overfitting. adding another dense layer with 512 units and a leaky_relu activation function, followed by another dropout layer. Finally, we add a dense layer with 1 unit and a sigmoid activation function, which will outputs the predicted class probabilities(as 0 or 1)."
   ]
  },
  {
   "cell_type": "markdown",
   "id": "16b7cce6",
   "metadata": {},
   "source": [
    "I am using this model architechture because because it has multiple layers of neurons with nonlinear activation functions, which allows it to learn complex patterns in the data while preventing overfitting."
   ]
  },
  {
   "cell_type": "markdown",
   "id": "b9a29acf",
   "metadata": {},
   "source": [
    "Calculating weight of classes. this is important for training."
   ]
  },
  {
   "cell_type": "code",
   "execution_count": 38,
   "id": "26266a26",
   "metadata": {},
   "outputs": [],
   "source": [
    "male = len(y_train2[y_train2>0])\n",
    "female = len(y_train2) - male\n",
    "total = len(y_train2)"
   ]
  },
  {
   "cell_type": "code",
   "execution_count": 39,
   "id": "9e649cb5",
   "metadata": {},
   "outputs": [
    {
     "name": "stdout",
     "output_type": "stream",
     "text": [
      "{0: 0.9920744314266023, 1: 1.0080532212885154}\n"
     ]
    }
   ],
   "source": [
    "weight_for_male = total / (2 * male) \n",
    "weight_for_female = total / (2 * female)\n",
    "class_weight = {0: weight_for_female, 1: weight_for_male}\n",
    "print(class_weight)"
   ]
  },
  {
   "cell_type": "markdown",
   "id": "f1f61a78",
   "metadata": {},
   "source": [
    "compiling the model using the binary cross-entropy loss function and the adam optimizer, and specifying that i want to track the accuracy, precision, recall and auc metric during training"
   ]
  },
  {
   "cell_type": "code",
   "execution_count": 40,
   "id": "b0b600e3",
   "metadata": {},
   "outputs": [],
   "source": [
    "model.compile(\n",
    "    optimizer='adam', loss='binary_crossentropy',\n",
    "    metrics=[\n",
    "      tf.keras.metrics.BinaryAccuracy(name='accuracy'),\n",
    "      tf.keras.metrics.Precision(name='precision'),\n",
    "      tf.keras.metrics.Recall(name='recall'),\n",
    "      tf.keras.metrics.AUC(name='auc')\n",
    "    ]\n",
    ")"
   ]
  },
  {
   "cell_type": "markdown",
   "id": "ccf7b80b",
   "metadata": {},
   "source": [
    "Training my MLP model"
   ]
  },
  {
   "cell_type": "code",
   "execution_count": 41,
   "id": "be5128c3",
   "metadata": {},
   "outputs": [],
   "source": [
    "scaler = StandardScaler()\n",
    "x_train_scaled = scaler.fit_transform(x_train2)"
   ]
  },
  {
   "cell_type": "code",
   "execution_count": 42,
   "id": "aad996e0",
   "metadata": {},
   "outputs": [
    {
     "name": "stdout",
     "output_type": "stream",
     "text": [
      "Epoch 1/25\n",
      "90/90 [==============================] - 12s 122ms/step - loss: 7.4883 - accuracy: 0.7079 - precision: 0.7016 - recall: 0.7153 - auc: 0.7281 - val_loss: 2673.6997 - val_accuracy: 0.5115 - val_precision: 0.5112 - val_recall: 1.0000 - val_auc: 0.5005\n",
      "Epoch 2/25\n",
      "90/90 [==============================] - 11s 120ms/step - loss: 4.0842 - accuracy: 0.7800 - precision: 0.7756 - recall: 0.7829 - auc: 0.8057 - val_loss: 225.8261 - val_accuracy: 0.6911 - val_precision: 0.9470 - val_recall: 0.4190 - val_auc: 0.6997\n",
      "Epoch 3/25\n",
      "90/90 [==============================] - 11s 121ms/step - loss: 2.4604 - accuracy: 0.8001 - precision: 0.7941 - recall: 0.8060 - auc: 0.8363 - val_loss: 214.5239 - val_accuracy: 0.6240 - val_precision: 0.9675 - val_recall: 0.2732 - val_auc: 0.6323\n",
      "Epoch 4/25\n",
      "90/90 [==============================] - 11s 121ms/step - loss: 1.7198 - accuracy: 0.8102 - precision: 0.8053 - recall: 0.8141 - auc: 0.8540 - val_loss: 234.3708 - val_accuracy: 0.6307 - val_precision: 0.5818 - val_recall: 0.9857 - val_auc: 0.6270\n",
      "Epoch 5/25\n",
      "90/90 [==============================] - 11s 123ms/step - loss: 1.1131 - accuracy: 0.8305 - precision: 0.8241 - recall: 0.8368 - auc: 0.8862 - val_loss: 349.5833 - val_accuracy: 0.5026 - val_precision: 0.9643 - val_recall: 0.0275 - val_auc: 0.5132\n",
      "Epoch 6/25\n",
      "90/90 [==============================] - 11s 121ms/step - loss: 0.7753 - accuracy: 0.8453 - precision: 0.8420 - recall: 0.8470 - auc: 0.9061 - val_loss: 77.7854 - val_accuracy: 0.6578 - val_precision: 0.9737 - val_recall: 0.3394 - val_auc: 0.6684\n",
      "Epoch 7/25\n",
      "90/90 [==============================] - 11s 122ms/step - loss: 0.6269 - accuracy: 0.8466 - precision: 0.8391 - recall: 0.8547 - auc: 0.9123 - val_loss: 113.1069 - val_accuracy: 0.5510 - val_precision: 0.9837 - val_recall: 0.1233 - val_auc: 0.5617\n",
      "Epoch 8/25\n",
      "90/90 [==============================] - 11s 122ms/step - loss: 0.4741 - accuracy: 0.8590 - precision: 0.8522 - recall: 0.8659 - auc: 0.9274 - val_loss: 112.6378 - val_accuracy: 0.5292 - val_precision: 0.9873 - val_recall: 0.0795 - val_auc: 0.5418\n",
      "Epoch 9/25\n",
      "90/90 [==============================] - 11s 122ms/step - loss: 0.3882 - accuracy: 0.8611 - precision: 0.8538 - recall: 0.8687 - auc: 0.9346 - val_loss: 16.8382 - val_accuracy: 0.8188 - val_precision: 0.9052 - val_recall: 0.7207 - val_auc: 0.8277\n",
      "Epoch 10/25\n",
      "90/90 [==============================] - 12s 129ms/step - loss: 0.3204 - accuracy: 0.8835 - precision: 0.8803 - recall: 0.8855 - auc: 0.9480 - val_loss: 69.2451 - val_accuracy: 0.5703 - val_precision: 0.9937 - val_recall: 0.1600 - val_auc: 0.5815\n",
      "Epoch 11/25\n",
      "90/90 [==============================] - 12s 136ms/step - loss: 0.2915 - accuracy: 0.8803 - precision: 0.8720 - recall: 0.8894 - auc: 0.9520 - val_loss: 92.2943 - val_accuracy: 0.5318 - val_precision: 0.9881 - val_recall: 0.0846 - val_auc: 0.5433\n",
      "Epoch 12/25\n",
      "90/90 [==============================] - 13s 141ms/step - loss: 0.2806 - accuracy: 0.8823 - precision: 0.8760 - recall: 0.8883 - auc: 0.9550 - val_loss: 67.1752 - val_accuracy: 0.5620 - val_precision: 0.9795 - val_recall: 0.1458 - val_auc: 0.5734\n",
      "Epoch 13/25\n",
      "90/90 [==============================] - 13s 144ms/step - loss: 0.2523 - accuracy: 0.8954 - precision: 0.8878 - recall: 0.9034 - auc: 0.9618 - val_loss: 136.0658 - val_accuracy: 0.5031 - val_precision: 0.9655 - val_recall: 0.0285 - val_auc: 0.5153\n",
      "Epoch 14/25\n",
      "90/90 [==============================] - 12s 134ms/step - loss: 0.2484 - accuracy: 0.9005 - precision: 0.8943 - recall: 0.9065 - auc: 0.9636 - val_loss: 45.7891 - val_accuracy: 0.6255 - val_precision: 0.9852 - val_recall: 0.2712 - val_auc: 0.6400\n",
      "Epoch 15/25\n",
      "90/90 [==============================] - 12s 135ms/step - loss: 0.2544 - accuracy: 0.8991 - precision: 0.8921 - recall: 0.9062 - auc: 0.9620 - val_loss: 200.7850 - val_accuracy: 0.4917 - val_precision: 0.8571 - val_recall: 0.0061 - val_auc: 0.5025\n",
      "Epoch 16/25\n",
      "90/90 [==============================] - 12s 138ms/step - loss: 0.2483 - accuracy: 0.9003 - precision: 0.8945 - recall: 0.9058 - auc: 0.9634 - val_loss: 97.3958 - val_accuracy: 0.5245 - val_precision: 0.9857 - val_recall: 0.0703 - val_auc: 0.5372\n",
      "Epoch 17/25\n",
      "90/90 [==============================] - 12s 134ms/step - loss: 0.2449 - accuracy: 0.9019 - precision: 0.8932 - recall: 0.9111 - auc: 0.9646 - val_loss: 111.7116 - val_accuracy: 0.5104 - val_precision: 0.9767 - val_recall: 0.0428 - val_auc: 0.5219\n",
      "Epoch 18/25\n",
      "90/90 [==============================] - 12s 134ms/step - loss: 0.2408 - accuracy: 0.8998 - precision: 0.8939 - recall: 0.9055 - auc: 0.9656 - val_loss: 61.8032 - val_accuracy: 0.5828 - val_precision: 0.9891 - val_recall: 0.1855 - val_auc: 0.5963\n",
      "Epoch 19/25\n",
      "90/90 [==============================] - 12s 131ms/step - loss: 0.2571 - accuracy: 0.8956 - precision: 0.8933 - recall: 0.8967 - auc: 0.9617 - val_loss: 85.3255 - val_accuracy: 0.5646 - val_precision: 0.9801 - val_recall: 0.1509 - val_auc: 0.5761\n",
      "Epoch 20/25\n",
      "90/90 [==============================] - 12s 131ms/step - loss: 0.2484 - accuracy: 0.9043 - precision: 0.9003 - recall: 0.9076 - auc: 0.9643 - val_loss: 144.7594 - val_accuracy: 0.5052 - val_precision: 0.9697 - val_recall: 0.0326 - val_auc: 0.5163\n",
      "Epoch 21/25\n",
      "90/90 [==============================] - 12s 133ms/step - loss: 0.2476 - accuracy: 0.8991 - precision: 0.8959 - recall: 0.9013 - auc: 0.9650 - val_loss: 42.1256 - val_accuracy: 0.6693 - val_precision: 0.9505 - val_recall: 0.3721 - val_auc: 0.6837\n",
      "Epoch 22/25\n",
      "90/90 [==============================] - 12s 134ms/step - loss: 0.2444 - accuracy: 0.9045 - precision: 0.9012 - recall: 0.9069 - auc: 0.9652 - val_loss: 66.0542 - val_accuracy: 0.5859 - val_precision: 0.9844 - val_recall: 0.1927 - val_auc: 0.5974\n",
      "Epoch 23/25\n",
      "90/90 [==============================] - 12s 133ms/step - loss: 0.2660 - accuracy: 0.8968 - precision: 0.8913 - recall: 0.9020 - auc: 0.9615 - val_loss: 72.3032 - val_accuracy: 0.5854 - val_precision: 0.9793 - val_recall: 0.1927 - val_auc: 0.5984\n",
      "Epoch 24/25\n",
      "90/90 [==============================] - 12s 132ms/step - loss: 0.2556 - accuracy: 0.9005 - precision: 0.8976 - recall: 0.9023 - auc: 0.9633 - val_loss: 69.0222 - val_accuracy: 0.5875 - val_precision: 0.9797 - val_recall: 0.1967 - val_auc: 0.6008\n",
      "Epoch 25/25\n",
      "90/90 [==============================] - 12s 133ms/step - loss: 0.2712 - accuracy: 0.8904 - precision: 0.8848 - recall: 0.8957 - auc: 0.9605 - val_loss: 132.9130 - val_accuracy: 0.5099 - val_precision: 0.9762 - val_recall: 0.0418 - val_auc: 0.5219\n"
     ]
    }
   ],
   "source": [
    "model_fit = model.fit(x_train_scaled, y_train2, class_weight=class_weight, batch_size=64,\n",
    "                validation_data=(x_val2, y_val2),\n",
    "                epochs=25)"
   ]
  },
  {
   "cell_type": "markdown",
   "id": "d0720c09",
   "metadata": {},
   "source": [
    "Making predictions on my MLP model"
   ]
  },
  {
   "cell_type": "code",
   "execution_count": 43,
   "id": "375142fe",
   "metadata": {},
   "outputs": [],
   "source": [
    "x_test_scaled = scaler.fit_transform(x_test2)"
   ]
  },
  {
   "cell_type": "code",
   "execution_count": 44,
   "id": "9b19f90b",
   "metadata": {},
   "outputs": [
    {
     "name": "stdout",
     "output_type": "stream",
     "text": [
      "60/60 [==============================] - 1s 7ms/step\n"
     ]
    },
    {
     "data": {
      "text/plain": [
       "array([[0],\n",
       "       [0],\n",
       "       [0],\n",
       "       ...,\n",
       "       [0],\n",
       "       [1],\n",
       "       [0]])"
      ]
     },
     "execution_count": 44,
     "metadata": {},
     "output_type": "execute_result"
    }
   ],
   "source": [
    "y_pred2 = model.predict(x_test_scaled)\n",
    "y_pred2 = np.where(y_pred2 > 0.5, 1, 0)\n",
    "y_pred2"
   ]
  },
  {
   "cell_type": "markdown",
   "id": "1bcc92a8",
   "metadata": {},
   "source": [
    "Plotting training and testing loss"
   ]
  },
  {
   "cell_type": "code",
   "execution_count": 46,
   "id": "c5355134",
   "metadata": {},
   "outputs": [
    {
     "data": {
      "image/png": "[encoded data removed]",
      "text/plain": [
       "<Figure size 640x480 with 1 Axes>"
      ]
     },
     "metadata": {},
     "output_type": "display_data"
    }
   ],
   "source": [
    "plt.plot(model_fit.history['loss'])\n",
    "plt.plot(model_fit.history['val_loss'])\n",
    "plt.ylabel('loss')\n",
    "plt.xlabel('epoch')\n",
    "plt.title('model loss')\n",
    "plt.legend(['train', 'test'], loc='upper right')\n",
    "plt.show()"
   ]
  },
  {
   "cell_type": "markdown",
   "id": "b7b4445c",
   "metadata": {},
   "source": [
    "Plotting training and testing accuracy"
   ]
  },
  {
   "cell_type": "code",
   "execution_count": 47,
   "id": "d3687fdb",
   "metadata": {},
   "outputs": [
    {
     "data": {
      "image/png": "[encoded data removed]",
      "text/plain": [
       "<Figure size 640x480 with 1 Axes>"
      ]
     },
     "metadata": {},
     "output_type": "display_data"
    }
   ],
   "source": [
    "plt.plot(model_fit.history['accuracy'])\n",
    "plt.plot(model_fit.history['val_accuracy'])\n",
    "plt.ylabel('accuracy')\n",
    "plt.xlabel('epoch')\n",
    "plt.title('model accuracy')\n",
    "plt.legend(['train', 'test'], loc='upper left')\n",
    "plt.show()"
   ]
  },
  {
   "cell_type": "markdown",
   "id": "46881051",
   "metadata": {},
   "source": [
    "Classification report for my MLP model"
   ]
  },
  {
   "cell_type": "code",
   "execution_count": 48,
   "id": "4049522e",
   "metadata": {},
   "outputs": [
    {
     "name": "stdout",
     "output_type": "stream",
     "text": [
      "              precision    recall  f1-score   support\n",
      "\n",
      "           0       0.87      0.91      0.89       958\n",
      "           1       0.91      0.86      0.88       962\n",
      "\n",
      "    accuracy                           0.89      1920\n",
      "   macro avg       0.89      0.89      0.89      1920\n",
      "weighted avg       0.89      0.89      0.89      1920\n",
      "\n"
     ]
    }
   ],
   "source": [
    "model_classification_report = classification_report(y_test2,y_pred2)\n",
    "print(model_classification_report)"
   ]
  },
  {
   "cell_type": "markdown",
   "id": "1559c969",
   "metadata": {},
   "source": [
    "# Convolutional Neural network"
   ]
  },
  {
   "cell_type": "code",
   "execution_count": 49,
   "id": "966feb5c",
   "metadata": {},
   "outputs": [],
   "source": [
    "# creating a helper function\n",
    "def to_tensor(_list):\n",
    "    LIST = []\n",
    "    for i in range(len(_list)):\n",
    "        LIST.append(tf.convert_to_tensor(_list[i]))\n",
    "    return LIST"
   ]
  },
  {
   "cell_type": "code",
   "execution_count": 50,
   "id": "0670a45d",
   "metadata": {},
   "outputs": [],
   "source": [
    "# creating a new function to reshape the array adn reset index \n",
    "def cleaned2(X):\n",
    "    for i in range(len(X)):\n",
    "        X[i] = np.stack(X[i].reset_index(drop=True))\n",
    "    return X"
   ]
  },
  {
   "cell_type": "code",
   "execution_count": 51,
   "id": "0da7ec0e",
   "metadata": {},
   "outputs": [],
   "source": [
    "# Convert image path to array of image using cv2\n",
    "size = (64,64)\n",
    "dfcopy2 = df.copy()\n",
    "\n",
    "for i in range(len(df)):\n",
    "    image=cv2.imread(df['Image'][i])\n",
    "    image=cv2.resize(image,size)\n",
    "    image = cv2.cvtColor(image, cv2.COLOR_BGR2RGB)\n",
    "    dfcopy2['Image'][i] = image"
   ]
  },
  {
   "cell_type": "code",
   "execution_count": 52,
   "id": "6e4eb42d",
   "metadata": {},
   "outputs": [
    {
     "data": {
      "text/html": [
       "<div>\n",
       "<style scoped>\n",
       "    .dataframe tbody tr th:only-of-type {\n",
       "        vertical-align: middle;\n",
       "    }\n",
       "\n",
       "    .dataframe tbody tr th {\n",
       "        vertical-align: top;\n",
       "    }\n",
       "\n",
       "    .dataframe thead th {\n",
       "        text-align: right;\n",
       "    }\n",
       "</style>\n",
       "<table border=\"1\" class=\"dataframe\">\n",
       "  <thead>\n",
       "    <tr style=\"text-align: right;\">\n",
       "      <th></th>\n",
       "      <th>Image</th>\n",
       "      <th>Label</th>\n",
       "    </tr>\n",
       "  </thead>\n",
       "  <tbody>\n",
       "    <tr>\n",
       "      <th>0</th>\n",
       "      <td>[[[118, 80, 57], [118, 80, 58], [113, 76, 57],...</td>\n",
       "      <td>1</td>\n",
       "    </tr>\n",
       "    <tr>\n",
       "      <th>1</th>\n",
       "      <td>[[[201, 139, 102], [198, 136, 99], [196, 134, ...</td>\n",
       "      <td>0</td>\n",
       "    </tr>\n",
       "    <tr>\n",
       "      <th>2</th>\n",
       "      <td>[[[186, 138, 126], [186, 138, 126], [186, 136,...</td>\n",
       "      <td>1</td>\n",
       "    </tr>\n",
       "    <tr>\n",
       "      <th>3</th>\n",
       "      <td>[[[234, 186, 166], [232, 185, 165], [232, 185,...</td>\n",
       "      <td>0</td>\n",
       "    </tr>\n",
       "    <tr>\n",
       "      <th>4</th>\n",
       "      <td>[[[240, 171, 156], [241, 172, 157], [239, 166,...</td>\n",
       "      <td>0</td>\n",
       "    </tr>\n",
       "  </tbody>\n",
       "</table>\n",
       "</div>"
      ],
      "text/plain": [
       "                                               Image  Label\n",
       "0  [[[118, 80, 57], [118, 80, 58], [113, 76, 57],...      1\n",
       "1  [[[201, 139, 102], [198, 136, 99], [196, 134, ...      0\n",
       "2  [[[186, 138, 126], [186, 138, 126], [186, 136,...      1\n",
       "3  [[[234, 186, 166], [232, 185, 165], [232, 185,...      0\n",
       "4  [[[240, 171, 156], [241, 172, 157], [239, 166,...      0"
      ]
     },
     "metadata": {},
     "output_type": "display_data"
    }
   ],
   "source": [
    "labelencoder = LabelEncoder()\n",
    "dfcopy2['Label'] = np.asarray(labelencoder.fit_transform(dfcopy2[\"Label\"]))\n",
    "display(dfcopy2.head())"
   ]
  },
  {
   "cell_type": "code",
   "execution_count": 53,
   "id": "c9ae6253",
   "metadata": {},
   "outputs": [
    {
     "data": {
      "text/plain": [
       "(64, 64, 3)"
      ]
     },
     "execution_count": 53,
     "metadata": {},
     "output_type": "execute_result"
    }
   ],
   "source": [
    "dfcopy2.Image[1].shape"
   ]
  },
  {
   "cell_type": "markdown",
   "id": "0397dab2",
   "metadata": {},
   "source": [
    "creating a train, test and validation set"
   ]
  },
  {
   "cell_type": "code",
   "execution_count": 54,
   "id": "27f00c8f",
   "metadata": {},
   "outputs": [],
   "source": [
    "x_train3, x_val3, y_train3, y_val3 = train_test_split(dfcopy2.Image, dfcopy2.Label,\n",
    "                                                      test_size = 0.4, random_state = 7)\n",
    "x_val3, x_test3, y_val3, y_test3 = train_test_split(x_val3, y_val3, test_size = 0.5, random_state = 7)\n",
    "\n",
    "x_train3, x_val3, x_test3, y_train3, y_val3, y_test3 = cleaned2([x_train3, x_val3, x_test3,\n",
    "                                                                 y_train3, y_val3, y_test3])\n",
    "x_train3, x_val3, x_test3, y_train3, y_val3, y_test3 = to_tensor([x_train3, x_val3, x_test3,\n",
    "                                                                  y_train3, y_val3, y_test3])"
   ]
  },
  {
   "cell_type": "markdown",
   "id": "aa4af5be",
   "metadata": {},
   "source": [
    "printing shapes of new sets"
   ]
  },
  {
   "cell_type": "code",
   "execution_count": 55,
   "id": "b9eda74a",
   "metadata": {},
   "outputs": [
    {
     "name": "stdout",
     "output_type": "stream",
     "text": [
      "X Train:  (5758, 64, 64, 3)\n",
      "X Val:  (1920, 64, 64, 3)\n",
      "X Test:  (1920, 64, 64, 3)\n",
      "y Train:  (5758,)\n",
      "y Val:  (1920,)\n",
      "y test:  (1920,)\n"
     ]
    }
   ],
   "source": [
    "print(\"X Train: \", x_train3.shape) \n",
    "print(\"X Val: \", x_val3.shape) \n",
    "print(\"X Test: \", x_test3.shape) \n",
    "print(\"y Train: \", y_train3.shape) \n",
    "print(\"y Val: \", y_val3.shape) \n",
    "print(\"y test: \", y_test3.shape) "
   ]
  },
  {
   "cell_type": "markdown",
   "id": "9a4b7019",
   "metadata": {},
   "source": [
    "creating a model architechture for CNN"
   ]
  },
  {
   "cell_type": "code",
   "execution_count": 56,
   "id": "bf906398",
   "metadata": {},
   "outputs": [],
   "source": [
    "myCNNmodel=keras.models.Sequential([\n",
    "    keras.layers.Conv2D(filters=128, kernel_size=(11,11), strides=(4,4), activation='relu', input_shape=(64,64,3)),\n",
    "    keras.layers.BatchNormalization(),\n",
    "    keras.layers.MaxPool2D(pool_size=(2,2)),\n",
    "    keras.layers.Conv2D(filters=256, kernel_size=(5,5), strides=(1,1), activation='relu', padding=\"same\"),\n",
    "    keras.layers.BatchNormalization(),\n",
    "    keras.layers.MaxPool2D(pool_size=(3,3)),\n",
    "    keras.layers.Conv2D(filters=256, kernel_size=(3,3), strides=(1,1), activation='relu', padding=\"same\"),\n",
    "    keras.layers.BatchNormalization(),\n",
    "    keras.layers.Conv2D(filters=256, kernel_size=(1,1), strides=(1,1), activation='relu', padding=\"same\"),\n",
    "    keras.layers.BatchNormalization(),\n",
    "    keras.layers.Conv2D(filters=256, kernel_size=(1,1), strides=(1,1), activation='relu', padding=\"same\"),\n",
    "    keras.layers.BatchNormalization(),\n",
    "    keras.layers.MaxPool2D(pool_size=(2,2)),\n",
    "    keras.layers.Flatten(),\n",
    "    keras.layers.Dense(1024,activation='relu'),\n",
    "    keras.layers.Dropout(0.5),\n",
    "    keras.layers.Dense(1024,activation='relu'),\n",
    "    keras.layers.Dropout(0.5),\n",
    "    keras.layers.Dense(1,activation='sigmoid')  \n",
    "])"
   ]
  },
  {
   "cell_type": "markdown",
   "id": "71c24a50",
   "metadata": {},
   "source": [
    "I am using a common model architechture for image classification tasks, as it includes several convolutional layers that can extract high-level features from the input image, followed by pooling layers that reduce the spatial dimensions of the feature maps. The batch normalization layers can help stabilize training, and the dropout layers can help prevent overfitting. The final fully connected layer with a sigmoid activation function can produce a binary classification output. Overall, this architecture has a good balance between model complexity and performance on a wide range of image classification tasks."
   ]
  },
  {
   "cell_type": "markdown",
   "id": "720fdd2c",
   "metadata": {},
   "source": [
    "compiling the model"
   ]
  },
  {
   "cell_type": "code",
   "execution_count": 57,
   "id": "aef9176f",
   "metadata": {},
   "outputs": [],
   "source": [
    "myCNNmodel.compile(optimizer='adam',loss='binary_crossentropy',metrics=['accuracy'])"
   ]
  },
  {
   "cell_type": "code",
   "execution_count": 58,
   "id": "3966bae5",
   "metadata": {},
   "outputs": [
    {
     "name": "stdout",
     "output_type": "stream",
     "text": [
      "Epoch 1/25\n",
      "180/180 [==============================] - 16s 76ms/step - loss: 0.6321 - accuracy: 0.7004 - val_loss: 0.7750 - val_accuracy: 0.5823\n",
      "Epoch 2/25\n",
      "180/180 [==============================] - 13s 74ms/step - loss: 0.3722 - accuracy: 0.8394 - val_loss: 0.3619 - val_accuracy: 0.8432\n",
      "Epoch 3/25\n",
      "180/180 [==============================] - 13s 72ms/step - loss: 0.3140 - accuracy: 0.8730 - val_loss: 0.3007 - val_accuracy: 0.8771\n",
      "Epoch 4/25\n",
      "180/180 [==============================] - 13s 73ms/step - loss: 0.2809 - accuracy: 0.8887 - val_loss: 0.3453 - val_accuracy: 0.8646\n",
      "Epoch 5/25\n",
      "180/180 [==============================] - 13s 73ms/step - loss: 0.2548 - accuracy: 0.8949 - val_loss: 0.3157 - val_accuracy: 0.8786\n",
      "Epoch 6/25\n",
      "180/180 [==============================] - 13s 72ms/step - loss: 0.2252 - accuracy: 0.9139 - val_loss: 0.2790 - val_accuracy: 0.8833\n",
      "Epoch 7/25\n",
      "180/180 [==============================] - 13s 72ms/step - loss: 0.2008 - accuracy: 0.9220 - val_loss: 0.2516 - val_accuracy: 0.8948\n",
      "Epoch 8/25\n",
      "180/180 [==============================] - 14s 76ms/step - loss: 0.1950 - accuracy: 0.9248 - val_loss: 0.2895 - val_accuracy: 0.8880\n",
      "Epoch 9/25\n",
      "180/180 [==============================] - 14s 76ms/step - loss: 0.1826 - accuracy: 0.9373 - val_loss: 0.7305 - val_accuracy: 0.7349\n",
      "Epoch 10/25\n",
      "180/180 [==============================] - 14s 76ms/step - loss: 0.1608 - accuracy: 0.9383 - val_loss: 0.2653 - val_accuracy: 0.9000\n",
      "Epoch 11/25\n",
      "180/180 [==============================] - 14s 75ms/step - loss: 0.1433 - accuracy: 0.9465 - val_loss: 0.3844 - val_accuracy: 0.8703\n",
      "Epoch 12/25\n",
      "180/180 [==============================] - 14s 77ms/step - loss: 0.1191 - accuracy: 0.9540 - val_loss: 0.3179 - val_accuracy: 0.8844\n",
      "Epoch 13/25\n",
      "180/180 [==============================] - 13s 73ms/step - loss: 0.1148 - accuracy: 0.9602 - val_loss: 1.1338 - val_accuracy: 0.7594\n",
      "Epoch 14/25\n",
      "180/180 [==============================] - 13s 72ms/step - loss: 0.1205 - accuracy: 0.9588 - val_loss: 0.4417 - val_accuracy: 0.8849\n",
      "Epoch 15/25\n",
      "180/180 [==============================] - 13s 73ms/step - loss: 0.1064 - accuracy: 0.9606 - val_loss: 0.4158 - val_accuracy: 0.9021\n",
      "Epoch 16/25\n",
      "180/180 [==============================] - 13s 73ms/step - loss: 0.0834 - accuracy: 0.9684 - val_loss: 0.2438 - val_accuracy: 0.9104\n",
      "Epoch 17/25\n",
      "180/180 [==============================] - 14s 75ms/step - loss: 0.0831 - accuracy: 0.9698 - val_loss: 0.4389 - val_accuracy: 0.8839\n",
      "Epoch 18/25\n",
      "180/180 [==============================] - 13s 75ms/step - loss: 0.1018 - accuracy: 0.9673 - val_loss: 0.4375 - val_accuracy: 0.8625\n",
      "Epoch 19/25\n",
      "180/180 [==============================] - 13s 74ms/step - loss: 0.0694 - accuracy: 0.9755 - val_loss: 0.4443 - val_accuracy: 0.9016\n",
      "Epoch 20/25\n",
      "180/180 [==============================] - 14s 75ms/step - loss: 0.0699 - accuracy: 0.9760 - val_loss: 0.3955 - val_accuracy: 0.9010\n",
      "Epoch 21/25\n",
      "180/180 [==============================] - 14s 75ms/step - loss: 0.0523 - accuracy: 0.9833 - val_loss: 0.7562 - val_accuracy: 0.8917\n",
      "Epoch 22/25\n",
      "180/180 [==============================] - 13s 73ms/step - loss: 0.0658 - accuracy: 0.9753 - val_loss: 0.5410 - val_accuracy: 0.8828\n",
      "Epoch 23/25\n",
      "180/180 [==============================] - 14s 76ms/step - loss: 0.0580 - accuracy: 0.9809 - val_loss: 0.3277 - val_accuracy: 0.9052\n",
      "Epoch 24/25\n",
      "180/180 [==============================] - 13s 72ms/step - loss: 0.0427 - accuracy: 0.9866 - val_loss: 0.4585 - val_accuracy: 0.8891\n",
      "Epoch 25/25\n",
      "180/180 [==============================] - 13s 72ms/step - loss: 0.0463 - accuracy: 0.9854 - val_loss: 0.4946 - val_accuracy: 0.8984\n"
     ]
    }
   ],
   "source": [
    "cnn_model_fit=myCNNmodel.fit(x_train3, y_train3, validation_data=(x_val3, y_val3), epochs=25)"
   ]
  },
  {
   "cell_type": "markdown",
   "id": "88e4620f",
   "metadata": {},
   "source": [
    "plotting training and validation loss"
   ]
  },
  {
   "cell_type": "code",
   "execution_count": 59,
   "id": "30260924",
   "metadata": {},
   "outputs": [
    {
     "data": {
      "image/png": "[encoded data removed]",
      "text/plain": [
       "<Figure size 500x400 with 1 Axes>"
      ]
     },
     "metadata": {},
     "output_type": "display_data"
    }
   ],
   "source": [
    "plt.figure(figsize=(5,4))\n",
    "plt.plot(cnn_model_fit.history['loss'])\n",
    "plt.plot(cnn_model_fit.history['val_loss'])\n",
    "plt.title('Loss',fontdict={'size':18})\n",
    "plt.legend(['train', 'test'], loc='upper right')\n",
    "plt.show()"
   ]
  },
  {
   "cell_type": "markdown",
   "id": "e8cdc616",
   "metadata": {},
   "source": [
    "plotting training and validation accuracy"
   ]
  },
  {
   "cell_type": "code",
   "execution_count": 60,
   "id": "8f53a7b1",
   "metadata": {},
   "outputs": [
    {
     "data": {
      "image/png": "[encoded data removed]",
      "text/plain": [
       "<Figure size 500x400 with 1 Axes>"
      ]
     },
     "metadata": {},
     "output_type": "display_data"
    }
   ],
   "source": [
    "plt.figure(figsize=(5,4))\n",
    "plt.plot(cnn_model_fit.history['accuracy'])\n",
    "plt.plot(cnn_model_fit.history['val_accuracy'])\n",
    "plt.title('Accuracy',fontdict={'size':18})\n",
    "plt.legend(['train', 'test'], loc='lower right')\n",
    "plt.show()"
   ]
  },
  {
   "cell_type": "markdown",
   "id": "f4a8c86d",
   "metadata": {},
   "source": [
    "Making predicitons on cnn model"
   ]
  },
  {
   "cell_type": "code",
   "execution_count": 61,
   "id": "e11cb234",
   "metadata": {},
   "outputs": [
    {
     "name": "stdout",
     "output_type": "stream",
     "text": [
      "60/60 [==============================] - 1s 17ms/step\n"
     ]
    }
   ],
   "source": [
    "y_pred_myCNN = myCNNmodel.predict(x_test3)\n",
    "y_pred_myCNN = np.round(y_pred_myCNN)"
   ]
  },
  {
   "cell_type": "code",
   "execution_count": 62,
   "id": "0b99555b",
   "metadata": {},
   "outputs": [],
   "source": [
    "recall_myCNN = recall_score(y_test3, y_pred_myCNN)\n",
    "precision_myCNN = precision_score(y_test3, y_pred_myCNN)\n",
    "f1_myCNN = f1_score(y_test3, y_pred_myCNN)\n",
    "roc_myCNN = roc_auc_score(y_test3, y_pred_myCNN)"
   ]
  },
  {
   "cell_type": "markdown",
   "id": "2fa2178c",
   "metadata": {},
   "source": [
    "creating a classification report"
   ]
  },
  {
   "cell_type": "code",
   "execution_count": 67,
   "id": "2a6b4cd2",
   "metadata": {},
   "outputs": [
    {
     "name": "stdout",
     "output_type": "stream",
     "text": [
      "              precision    recall  f1-score   support\n",
      "\n",
      "           0       0.91      0.86      0.89       958\n",
      "           1       0.87      0.92      0.89       962\n",
      "\n",
      "    accuracy                           0.89      1920\n",
      "   macro avg       0.89      0.89      0.89      1920\n",
      "weighted avg       0.89      0.89      0.89      1920\n",
      "\n"
     ]
    }
   ],
   "source": [
    "myCNN_Classification_Report = classification_report(y_test3, y_pred_myCNN)\n",
    "print(myCNN_Classification_Report)"
   ]
  },
  {
   "cell_type": "markdown",
   "id": "28da39fc",
   "metadata": {},
   "source": [
    "The overall accuracy of the model on the testing set is 87%, which is a good performance. The precision and recall scores are also high for both classes (0 and 1), which means that the model is able to correctly identify both classes with high accuracy.\n",
    "the model is performing well and is able to correctly identify the classes with high accuracy. "
   ]
  },
  {
   "cell_type": "markdown",
   "id": "007f4a4b",
   "metadata": {},
   "source": [
    "Printing classification report for all three model"
   ]
  },
  {
   "cell_type": "code",
   "execution_count": 64,
   "id": "f56eef65",
   "metadata": {},
   "outputs": [
    {
     "name": "stdout",
     "output_type": "stream",
     "text": [
      "this was my benchmark model SVM\n",
      "              precision    recall  f1-score   support\n",
      "\n",
      "           0       0.79      0.78      0.79      1470\n",
      "           1       0.79      0.80      0.80      1531\n",
      "\n",
      "    accuracy                           0.79      3001\n",
      "   macro avg       0.79      0.79      0.79      3001\n",
      "weighted avg       0.79      0.79      0.79      3001\n",
      "\n"
     ]
    }
   ],
   "source": [
    "print('this was my benchmark model SVM')\n",
    "print(SVM_Classification_report)"
   ]
  },
  {
   "cell_type": "code",
   "execution_count": 65,
   "id": "a1a36706",
   "metadata": {},
   "outputs": [
    {
     "name": "stdout",
     "output_type": "stream",
     "text": [
      "this is MLP model\n",
      "              precision    recall  f1-score   support\n",
      "\n",
      "           0       0.87      0.91      0.89       958\n",
      "           1       0.91      0.86      0.88       962\n",
      "\n",
      "    accuracy                           0.89      1920\n",
      "   macro avg       0.89      0.89      0.89      1920\n",
      "weighted avg       0.89      0.89      0.89      1920\n",
      "\n"
     ]
    }
   ],
   "source": [
    "print('this is MLP model')\n",
    "print(model_classification_report)"
   ]
  },
  {
   "cell_type": "code",
   "execution_count": 66,
   "id": "9cd0045e",
   "metadata": {},
   "outputs": [
    {
     "name": "stdout",
     "output_type": "stream",
     "text": [
      "this is my CNN model\n",
      "              precision    recall  f1-score   support\n",
      "\n",
      "           0       0.91      0.86      0.89       958\n",
      "           1       0.87      0.92      0.89       962\n",
      "\n",
      "    accuracy                           0.89      1920\n",
      "   macro avg       0.89      0.89      0.89      1920\n",
      "weighted avg       0.89      0.89      0.89      1920\n",
      "\n"
     ]
    }
   ],
   "source": [
    "print('this is my CNN model')\n",
    "print(myCNN_Classification_Report)"
   ]
  },
  {
   "cell_type": "markdown",
   "id": "f9f07cb7",
   "metadata": {},
   "source": [
    "# CONCLUSION"
   ]
  },
  {
   "cell_type": "markdown",
   "id": "a9163cb8",
   "metadata": {},
   "source": [
    "Looking at the precision, recall, and f1-score metrics, I can see that the CNN and MLP models are performing similarly and much better than the SVM model. The CNN model has a slightly higher precision for class 0, while the MLP model has a slightly higher precision for class 1. Both models have a similar recall and f1-score for both classes.\n",
    "\n",
    "Overall, the CNN and MLP models are performing better than the SVM model, with the CNN model having a slightly better performance. It's important to note that the performance of the models may vary depending on the specific dataset and problem at hand, so it's always recommended to try multiple models and compare their performances."
   ]
  },
  {
   "cell_type": "code",
   "execution_count": null,
   "id": "fe6bccf4",
   "metadata": {},
   "outputs": [],
   "source": []
  }
 ],
 "metadata": {
  "kernelspec": {
   "display_name": "Python 3 (ipykernel)",
   "language": "python",
   "name": "python3"
  },
  "language_info": {
   "codemirror_mode": {
    "name": "ipython",
    "version": 3
   },
   "file_extension": ".py",
   "mimetype": "text/x-python",
   "name": "python",
   "nbconvert_exporter": "python",
   "pygments_lexer": "ipython3",
   "version": "3.9.16"
  }
 },
 "nbformat": 4,
 "nbformat_minor": 5
}
